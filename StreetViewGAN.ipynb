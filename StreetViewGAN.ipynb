{
 "cells": [
  {
   "cell_type": "markdown",
   "id": "de761177",
   "metadata": {},
   "source": [
    "# StreetViewGAN - Translating Between Maps and Real World Images"
   ]
  },
  {
   "cell_type": "code",
   "execution_count": 1,
   "id": "dce1f117",
   "metadata": {},
   "outputs": [
    {
     "name": "stderr",
     "output_type": "stream",
     "text": [
      "C:\\Users\\NYUAD\\AppData\\Roaming\\Python\\Python312\\site-packages\\tqdm\\auto.py:21: TqdmWarning: IProgress not found. Please update jupyter and ipywidgets. See https://ipywidgets.readthedocs.io/en/stable/user_install.html\n",
      "  from .autonotebook import tqdm as notebook_tqdm\n"
     ]
    }
   ],
   "source": [
    "import os\n",
    "import gradio as gr\n",
    "import numpy as np\n",
    "from torch.utils.data import DataLoader\n",
    "from PIL import Image as PILImage\n",
    "import torch\n",
    "import torch.nn as nn\n",
    "import torch.nn.functional as F\n",
    "from torchvision.datasets import ImageFolder\n",
    "from torchvision.transforms import InterpolationMode\n",
    "from torchvision.transforms import ToPILImage\n",
    "import torchvision.transforms as T\n",
    "from torchvision.utils import make_grid\n",
    "from torchvision.utils import save_image\n",
    "from torch.utils.data import Dataset, DataLoader\n",
    "from tqdm.auto import tqdm\n",
    "from IPython.display import Image\n",
    "import matplotlib.pyplot as plt\n",
    "import pathlib\n",
    "import tarfile\n",
    "import urllib.request\n",
    "%matplotlib inline"
   ]
  },
  {
   "cell_type": "markdown",
   "id": "8c5c7e34",
   "metadata": {},
   "source": [
    "## Download the Dataset"
   ]
  },
  {
   "cell_type": "code",
   "execution_count": 2,
   "id": "40858d4f",
   "metadata": {},
   "outputs": [
    {
     "name": "stdout",
     "output_type": "stream",
     "text": [
      "Downloading http://efrosgans.eecs.berkeley.edu/pix2pix/datasets/maps.tar.gz...\n",
      "Extracting to data\\maps...\n"
     ]
    },
    {
     "name": "stderr",
     "output_type": "stream",
     "text": [
      "C:\\Users\\NYUAD\\AppData\\Local\\Temp\\ipykernel_9392\\2686093772.py:11: DeprecationWarning: Python 3.14 will, by default, filter extracted tar archives and reject files or modify their metadata. Use the filter argument to control this behavior.\n",
      "  tar.extractall(path=download_path.parent)\n"
     ]
    },
    {
     "name": "stdout",
     "output_type": "stream",
     "text": [
      "Dataset path: data\\maps\n"
     ]
    }
   ],
   "source": [
    "# dataset_name = \"maps\"\n",
    "# _URL = f\"http://efrosgans.eecs.berkeley.edu/pix2pix/datasets/{dataset_name}.tar.gz\"\n",
    "\n",
    "# # Download and extract the dataset\n",
    "# def download_and_extract(url, download_path):\n",
    "#     if not download_path.exists():\n",
    "#         print(f\"Downloading {url}...\")\n",
    "#         tar_path, _ = urllib.request.urlretrieve(url)\n",
    "#         print(f\"Extracting to {download_path}...\")\n",
    "#         with tarfile.open(tar_path, \"r:gz\") as tar:\n",
    "#             tar.extractall(path=download_path.parent)\n",
    "#     else:\n",
    "#         print(f\"{dataset_name} already downloaded.\")\n",
    "\n",
    "# # Set paths\n",
    "# base_path = pathlib.Path('./data')\n",
    "# download_path = base_path / dataset_name\n",
    "# base_path.mkdir(exist_ok=True)\n",
    "\n",
    "# download_and_extract(_URL, download_path)\n",
    "\n",
    "# # Now dataset is available at:\n",
    "# print(\"Dataset path:\", download_path)"
   ]
  },
  {
   "cell_type": "markdown",
   "id": "16c26f2a",
   "metadata": {},
   "source": [
    "## Data Preprocessing"
   ]
  },
  {
   "cell_type": "code",
   "execution_count": 3,
   "id": "cb6c15bc",
   "metadata": {},
   "outputs": [],
   "source": [
    "data_transform  = T.Compose([\n",
    "    T.Resize(286, interpolation=InterpolationMode.BICUBIC),     # 256→286\n",
    "    T.RandomCrop((256, 256)),                       # crop height = 256, width = 256\n",
    "    T.RandomHorizontalFlip(p=0.5),                  # mirror left ↔ right\n",
    "    T.ToTensor(),                                   # [0,255] → [0,1]\n",
    "    T.Normalize((0.5,)*3, (0.5,)*3)                 # →[−1,1]\n",
    "])"
   ]
  },
  {
   "cell_type": "code",
   "execution_count": 4,
   "id": "7b3c95b1",
   "metadata": {},
   "outputs": [],
   "source": [
    "class Pix2PixDataset(Dataset):\n",
    "    def __init__(self, root, mode='train', transform=None):\n",
    "        self.root = pathlib.Path(root) / mode\n",
    "        self.files = sorted(self.root.glob(\"*.jpg\"))\n",
    "        self.transform = transform\n",
    "\n",
    "    def __len__(self): \n",
    "        return len(self.files)\n",
    "\n",
    "    def __getitem__(self, idx):\n",
    "        img = PILImage.open(self.files[idx]).convert(\"RGB\")\n",
    "        w, h = img.size\n",
    "        w2 = w // 2\n",
    "\n",
    "        # left = real, right = street\n",
    "        real_img   = img.crop((0, 0, w2, h))\n",
    "        street_img = img.crop((w2, 0, w,  h))\n",
    "\n",
    "        if self.transform:\n",
    "            street_img = self.transform(street_img)\n",
    "            real_img   = self.transform(real_img)\n",
    "\n",
    "        return real_img, street_img"
   ]
  },
  {
   "cell_type": "code",
   "execution_count": 5,
   "id": "c85f0115",
   "metadata": {},
   "outputs": [],
   "source": [
    "# Build the loaders\n",
    "train_ds = Pix2PixDataset('./data/maps', mode='train', transform=data_transform)\n",
    "train_dl = DataLoader(train_ds, batch_size=1, shuffle=True,  num_workers=2)"
   ]
  },
  {
   "cell_type": "code",
   "execution_count": 6,
   "id": "a3c14ae1",
   "metadata": {},
   "outputs": [
    {
     "ename": "RuntimeError",
     "evalue": "DataLoader worker (pid(s) 18176, 4388) exited unexpectedly",
     "output_type": "error",
     "traceback": [
      "\u001b[31m---------------------------------------------------------------------------\u001b[39m",
      "\u001b[31mEmpty\u001b[39m                                     Traceback (most recent call last)",
      "\u001b[36mFile \u001b[39m\u001b[32m~\\AppData\\Roaming\\Python\\Python312\\site-packages\\torch\\utils\\data\\dataloader.py:1284\u001b[39m, in \u001b[36m_MultiProcessingDataLoaderIter._try_get_data\u001b[39m\u001b[34m(self, timeout)\u001b[39m\n\u001b[32m   1283\u001b[39m \u001b[38;5;28;01mtry\u001b[39;00m:\n\u001b[32m-> \u001b[39m\u001b[32m1284\u001b[39m     data = \u001b[38;5;28;43mself\u001b[39;49m\u001b[43m.\u001b[49m\u001b[43m_data_queue\u001b[49m\u001b[43m.\u001b[49m\u001b[43mget\u001b[49m\u001b[43m(\u001b[49m\u001b[43mtimeout\u001b[49m\u001b[43m=\u001b[49m\u001b[43mtimeout\u001b[49m\u001b[43m)\u001b[49m\n\u001b[32m   1285\u001b[39m     \u001b[38;5;28;01mreturn\u001b[39;00m (\u001b[38;5;28;01mTrue\u001b[39;00m, data)\n",
      "\u001b[36mFile \u001b[39m\u001b[32mc:\\Program Files\\Python312\\Lib\\multiprocessing\\queues.py:114\u001b[39m, in \u001b[36mQueue.get\u001b[39m\u001b[34m(self, block, timeout)\u001b[39m\n\u001b[32m    113\u001b[39m     \u001b[38;5;28;01mif\u001b[39;00m \u001b[38;5;129;01mnot\u001b[39;00m \u001b[38;5;28mself\u001b[39m._poll(timeout):\n\u001b[32m--> \u001b[39m\u001b[32m114\u001b[39m         \u001b[38;5;28;01mraise\u001b[39;00m Empty\n\u001b[32m    115\u001b[39m \u001b[38;5;28;01melif\u001b[39;00m \u001b[38;5;129;01mnot\u001b[39;00m \u001b[38;5;28mself\u001b[39m._poll():\n",
      "\u001b[31mEmpty\u001b[39m: ",
      "\nThe above exception was the direct cause of the following exception:\n",
      "\u001b[31mRuntimeError\u001b[39m                              Traceback (most recent call last)",
      "\u001b[36mCell\u001b[39m\u001b[36m \u001b[39m\u001b[32mIn[6]\u001b[39m\u001b[32m, line 5\u001b[39m\n\u001b[32m      1\u001b[39m \u001b[38;5;28;01mfrom\u001b[39;00m\u001b[38;5;250m \u001b[39m\u001b[34;01mPIL\u001b[39;00m\u001b[38;5;250m \u001b[39m\u001b[38;5;28;01mimport\u001b[39;00m Image\n\u001b[32m      3\u001b[39m fig, axes = plt.subplots(\u001b[32m4\u001b[39m, \u001b[32m2\u001b[39m, figsize=(\u001b[32m6\u001b[39m, \u001b[32m12\u001b[39m))\n\u001b[32m----> \u001b[39m\u001b[32m5\u001b[39m \u001b[38;5;28;43;01mfor\u001b[39;49;00m\u001b[43m \u001b[49m\u001b[43mi\u001b[49m\u001b[43m,\u001b[49m\u001b[43m \u001b[49m\u001b[43m(\u001b[49m\u001b[43mstreet\u001b[49m\u001b[43m,\u001b[49m\u001b[43m \u001b[49m\u001b[43mreal\u001b[49m\u001b[43m)\u001b[49m\u001b[43m \u001b[49m\u001b[38;5;129;43;01min\u001b[39;49;00m\u001b[43m \u001b[49m\u001b[38;5;28;43menumerate\u001b[39;49m\u001b[43m(\u001b[49m\u001b[43mtrain_dl\u001b[49m\u001b[43m)\u001b[49m\u001b[43m:\u001b[49m\n\u001b[32m      6\u001b[39m \u001b[43m    \u001b[49m\u001b[38;5;28;43;01mif\u001b[39;49;00m\u001b[43m \u001b[49m\u001b[43mi\u001b[49m\u001b[43m \u001b[49m\u001b[43m==\u001b[49m\u001b[43m \u001b[49m\u001b[32;43m4\u001b[39;49m\u001b[43m:\u001b[49m\u001b[43m \u001b[49m\u001b[38;5;28;43;01mbreak\u001b[39;49;00m\n\u001b[32m      8\u001b[39m \u001b[43m    \u001b[49m\u001b[38;5;66;43;03m# denormalize back to [0,1]\u001b[39;49;00m\n",
      "\u001b[36mFile \u001b[39m\u001b[32m~\\AppData\\Roaming\\Python\\Python312\\site-packages\\torch\\utils\\data\\dataloader.py:733\u001b[39m, in \u001b[36m_BaseDataLoaderIter.__next__\u001b[39m\u001b[34m(self)\u001b[39m\n\u001b[32m    730\u001b[39m \u001b[38;5;28;01mif\u001b[39;00m \u001b[38;5;28mself\u001b[39m._sampler_iter \u001b[38;5;129;01mis\u001b[39;00m \u001b[38;5;28;01mNone\u001b[39;00m:\n\u001b[32m    731\u001b[39m     \u001b[38;5;66;03m# TODO(https://github.com/pytorch/pytorch/issues/76750)\u001b[39;00m\n\u001b[32m    732\u001b[39m     \u001b[38;5;28mself\u001b[39m._reset()  \u001b[38;5;66;03m# type: ignore[call-arg]\u001b[39;00m\n\u001b[32m--> \u001b[39m\u001b[32m733\u001b[39m data = \u001b[38;5;28;43mself\u001b[39;49m\u001b[43m.\u001b[49m\u001b[43m_next_data\u001b[49m\u001b[43m(\u001b[49m\u001b[43m)\u001b[49m\n\u001b[32m    734\u001b[39m \u001b[38;5;28mself\u001b[39m._num_yielded += \u001b[32m1\u001b[39m\n\u001b[32m    735\u001b[39m \u001b[38;5;28;01mif\u001b[39;00m (\n\u001b[32m    736\u001b[39m     \u001b[38;5;28mself\u001b[39m._dataset_kind == _DatasetKind.Iterable\n\u001b[32m    737\u001b[39m     \u001b[38;5;129;01mand\u001b[39;00m \u001b[38;5;28mself\u001b[39m._IterableDataset_len_called \u001b[38;5;129;01mis\u001b[39;00m \u001b[38;5;129;01mnot\u001b[39;00m \u001b[38;5;28;01mNone\u001b[39;00m\n\u001b[32m    738\u001b[39m     \u001b[38;5;129;01mand\u001b[39;00m \u001b[38;5;28mself\u001b[39m._num_yielded > \u001b[38;5;28mself\u001b[39m._IterableDataset_len_called\n\u001b[32m    739\u001b[39m ):\n",
      "\u001b[36mFile \u001b[39m\u001b[32m~\\AppData\\Roaming\\Python\\Python312\\site-packages\\torch\\utils\\data\\dataloader.py:1491\u001b[39m, in \u001b[36m_MultiProcessingDataLoaderIter._next_data\u001b[39m\u001b[34m(self)\u001b[39m\n\u001b[32m   1488\u001b[39m     \u001b[38;5;28;01mreturn\u001b[39;00m \u001b[38;5;28mself\u001b[39m._process_data(data, worker_id)\n\u001b[32m   1490\u001b[39m \u001b[38;5;28;01massert\u001b[39;00m \u001b[38;5;129;01mnot\u001b[39;00m \u001b[38;5;28mself\u001b[39m._shutdown \u001b[38;5;129;01mand\u001b[39;00m \u001b[38;5;28mself\u001b[39m._tasks_outstanding > \u001b[32m0\u001b[39m\n\u001b[32m-> \u001b[39m\u001b[32m1491\u001b[39m idx, data = \u001b[38;5;28;43mself\u001b[39;49m\u001b[43m.\u001b[49m\u001b[43m_get_data\u001b[49m\u001b[43m(\u001b[49m\u001b[43m)\u001b[49m\n\u001b[32m   1492\u001b[39m \u001b[38;5;28mself\u001b[39m._tasks_outstanding -= \u001b[32m1\u001b[39m\n\u001b[32m   1493\u001b[39m \u001b[38;5;28;01mif\u001b[39;00m \u001b[38;5;28mself\u001b[39m._dataset_kind == _DatasetKind.Iterable:\n\u001b[32m   1494\u001b[39m     \u001b[38;5;66;03m# Check for _IterableDatasetStopIteration\u001b[39;00m\n",
      "\u001b[36mFile \u001b[39m\u001b[32m~\\AppData\\Roaming\\Python\\Python312\\site-packages\\torch\\utils\\data\\dataloader.py:1453\u001b[39m, in \u001b[36m_MultiProcessingDataLoaderIter._get_data\u001b[39m\u001b[34m(self)\u001b[39m\n\u001b[32m   1449\u001b[39m     \u001b[38;5;66;03m# In this case, `self._data_queue` is a `queue.Queue`,. But we don't\u001b[39;00m\n\u001b[32m   1450\u001b[39m     \u001b[38;5;66;03m# need to call `.task_done()` because we don't use `.join()`.\u001b[39;00m\n\u001b[32m   1451\u001b[39m \u001b[38;5;28;01melse\u001b[39;00m:\n\u001b[32m   1452\u001b[39m     \u001b[38;5;28;01mwhile\u001b[39;00m \u001b[38;5;28;01mTrue\u001b[39;00m:\n\u001b[32m-> \u001b[39m\u001b[32m1453\u001b[39m         success, data = \u001b[38;5;28;43mself\u001b[39;49m\u001b[43m.\u001b[49m\u001b[43m_try_get_data\u001b[49m\u001b[43m(\u001b[49m\u001b[43m)\u001b[49m\n\u001b[32m   1454\u001b[39m         \u001b[38;5;28;01mif\u001b[39;00m success:\n\u001b[32m   1455\u001b[39m             \u001b[38;5;28;01mreturn\u001b[39;00m data\n",
      "\u001b[36mFile \u001b[39m\u001b[32m~\\AppData\\Roaming\\Python\\Python312\\site-packages\\torch\\utils\\data\\dataloader.py:1297\u001b[39m, in \u001b[36m_MultiProcessingDataLoaderIter._try_get_data\u001b[39m\u001b[34m(self, timeout)\u001b[39m\n\u001b[32m   1295\u001b[39m \u001b[38;5;28;01mif\u001b[39;00m \u001b[38;5;28mlen\u001b[39m(failed_workers) > \u001b[32m0\u001b[39m:\n\u001b[32m   1296\u001b[39m     pids_str = \u001b[33m\"\u001b[39m\u001b[33m, \u001b[39m\u001b[33m\"\u001b[39m.join(\u001b[38;5;28mstr\u001b[39m(w.pid) \u001b[38;5;28;01mfor\u001b[39;00m w \u001b[38;5;129;01min\u001b[39;00m failed_workers)\n\u001b[32m-> \u001b[39m\u001b[32m1297\u001b[39m     \u001b[38;5;28;01mraise\u001b[39;00m \u001b[38;5;167;01mRuntimeError\u001b[39;00m(\n\u001b[32m   1298\u001b[39m         \u001b[33mf\u001b[39m\u001b[33m\"\u001b[39m\u001b[33mDataLoader worker (pid(s) \u001b[39m\u001b[38;5;132;01m{\u001b[39;00mpids_str\u001b[38;5;132;01m}\u001b[39;00m\u001b[33m) exited unexpectedly\u001b[39m\u001b[33m\"\u001b[39m\n\u001b[32m   1299\u001b[39m     ) \u001b[38;5;28;01mfrom\u001b[39;00m\u001b[38;5;250m \u001b[39m\u001b[34;01me\u001b[39;00m\n\u001b[32m   1300\u001b[39m \u001b[38;5;28;01mif\u001b[39;00m \u001b[38;5;28misinstance\u001b[39m(e, queue.Empty):\n\u001b[32m   1301\u001b[39m     \u001b[38;5;28;01mreturn\u001b[39;00m (\u001b[38;5;28;01mFalse\u001b[39;00m, \u001b[38;5;28;01mNone\u001b[39;00m)\n",
      "\u001b[31mRuntimeError\u001b[39m: DataLoader worker (pid(s) 18176, 4388) exited unexpectedly"
     ]
    },
    {
     "data": {
      "image/png": "[encoded data removed]",
      "text/plain": [
       "<Figure size 600x1200 with 8 Axes>"
      ]
     },
     "metadata": {},
     "output_type": "display_data"
    }
   ],
   "source": [
    "from PIL import Image\n",
    "\n",
    "fig, axes = plt.subplots(4, 2, figsize=(6, 12))\n",
    "\n",
    "for i, (street, real) in enumerate(train_dl):\n",
    "    if i == 4: break\n",
    "\n",
    "    # denormalize back to [0,1]\n",
    "    st = street * 0.5 + 0.5\n",
    "    re = real   * 0.5 + 0.5\n",
    "\n",
    "    axes[i, 0].imshow(st[0].permute(1, 2, 0))\n",
    "    axes[i, 0].set_title(\"Street (Input)\")\n",
    "    axes[i, 1].imshow(re[0].permute(1, 2, 0))\n",
    "    axes[i, 1].set_title(\"Real (Target)\")\n",
    "\n",
    "    for ax in axes[i]:\n",
    "        ax.axis(\"off\")\n",
    "\n",
    "plt.tight_layout()\n",
    "plt.show()"
   ]
  },
  {
   "cell_type": "markdown",
   "id": "0c9242bb",
   "metadata": {},
   "source": [
    "## Discriminator Network"
   ]
  },
  {
   "cell_type": "code",
   "execution_count": null,
   "id": "788615fb",
   "metadata": {},
   "outputs": [],
   "source": [
    "class Pix2PixDiscriminator(nn.Module):\n",
    "    def __init__(self, in_channels=3, base_features=64):\n",
    "        super().__init__()\n",
    "        # Since we concatwnate two images, the first conv sees in_channels*2\n",
    "        self.model = nn.Sequential(\n",
    "        # → (in_channels*2) x 256 x 256\n",
    "        nn.Conv2d(in_channels * 2, base_features, kernel_size=4, stride=2, padding=1, bias=False),\n",
    "        nn.InstanceNorm2d(base_features),\n",
    "        nn.LeakyReLU(0.2, inplace=True),\n",
    "        # → base_features x 128 x 128\n",
    "\n",
    "        nn.Conv2d(base_features, base_features*2, kernel_size=4, stride=2, padding=1, bias=False),\n",
    "        nn.InstanceNorm2d(base_features*2),\n",
    "        nn.LeakyReLU(0.2, inplace=True),\n",
    "        # → (base_features*2) x 64 x 64\n",
    "\n",
    "        nn.Conv2d(base_features*2, base_features*4, kernel_size=4, stride=2, padding=1, bias=False),\n",
    "        nn.InstanceNorm2d(base_features*4),\n",
    "        nn.LeakyReLU(0.2, inplace=True),\n",
    "        # → (base_features*4) x 32 x 32\n",
    "\n",
    "        nn.ZeroPad2d(1),  \n",
    "        # → (base_features*4) x 34 x 34\n",
    "\n",
    "        nn.Conv2d(base_features*4, base_features*8, kernel_size=4, stride=1, padding=1, bias=False),\n",
    "        nn.InstanceNorm2d(base_features*8),\n",
    "        nn.LeakyReLU(0.2, inplace=True),\n",
    "        # → (base_features*8) x 32 x 32\n",
    "\n",
    "        nn.ZeroPad2d(1),  \n",
    "        # → (base_features*8) x 34 x 34\n",
    "\n",
    "        # final “patch” conv; produces a 31×31 score map\n",
    "        nn.Conv2d(base_features*8, 1, kernel_size=4, stride=1, padding=1, bias=False),\n",
    "        # → 1 x 31 x 31\n",
    "        )\n",
    "\n",
    "    def forward(self, real_input, real_target):\n",
    "        x = torch.cat([real_input, real_target], dim = 1)  \n",
    "        return self.model(x)"
   ]
  },
  {
   "cell_type": "markdown",
   "id": "bca4748d",
   "metadata": {},
   "source": [
    "## Generator Network"
   ]
  },
  {
   "cell_type": "code",
   "execution_count": null,
   "id": "3f721f19",
   "metadata": {},
   "outputs": [],
   "source": [
    "class Pix2PixGenerator(nn.Module):\n",
    "    def __init__(self, in_channels=3, out_channels=3, features=64):\n",
    "        super().__init__()\n",
    "        # --- ENCODER (downsampling) ---\n",
    "        # 256→128\n",
    "        self.enc1 = nn.Sequential(\n",
    "            nn.Conv2d(in_channels, features, kernel_size=4, stride=2, padding=1, bias=False),\n",
    "            nn.LeakyReLU(0.2, inplace=True)\n",
    "        )\n",
    "\n",
    "        # 128→64\n",
    "        self.enc2 = nn.Sequential(\n",
    "            nn.Conv2d(features, features*2, kernel_size=4, stride=2, padding=1, bias=False),\n",
    "            nn.InstanceNorm2d(features*2),\n",
    "            nn.LeakyReLU(0.2, inplace=True)\n",
    "        )\n",
    "        # 64→32\n",
    "        self.enc3 = nn.Sequential(\n",
    "            nn.Conv2d(features*2, features*4, kernel_size=4, stride=2, padding=1, bias=False),\n",
    "            nn.InstanceNorm2d(features*4),\n",
    "            nn.LeakyReLU(0.2, inplace=True)\n",
    "        )\n",
    "        # 32→16\n",
    "        self.enc4 = nn.Sequential(\n",
    "            nn.Conv2d(features*4, features*8, kernel_size=4, stride=2, padding=1, bias=False),\n",
    "            nn.InstanceNorm2d(features*8),\n",
    "            nn.LeakyReLU(0.2, inplace=True)\n",
    "        )\n",
    "        # 16→8\n",
    "        self.enc5 = nn.Sequential(\n",
    "            nn.Conv2d(features*8, features*8, kernel_size=4, stride=2, padding=1, bias=False),\n",
    "            nn.InstanceNorm2d(features*8),\n",
    "            nn.LeakyReLU(0.2, inplace=True)\n",
    "        )\n",
    "        # 8→4\n",
    "        self.enc6 = nn.Sequential(\n",
    "            nn.Conv2d(features*8, features*8, kernel_size=4, stride=2, padding=1, bias=False),\n",
    "            nn.InstanceNorm2d(features*8),\n",
    "            nn.LeakyReLU(0.2, inplace=True)\n",
    "        )\n",
    "        # 4→2\n",
    "        self.enc7 = nn.Sequential(\n",
    "            nn.Conv2d(features*8, features*8, kernel_size=4, stride=2, padding=1, bias=False),\n",
    "            nn.InstanceNorm2d(features*8),\n",
    "            nn.LeakyReLU(0.2, inplace=True)\n",
    "        )\n",
    "        # 2→1  (bottleneck)\n",
    "        self.enc8 = nn.Sequential(\n",
    "            nn.Conv2d(features*8, features*8, kernel_size=4, stride=2, padding=1, bias=False),\n",
    "            nn.LeakyReLU(0.2, inplace=True)\n",
    "        )\n",
    "\n",
    "        # --- DECODER (upsampling) ---\n",
    "        # 1→2\n",
    "        self.dec1 = nn.Sequential(\n",
    "            nn.ConvTranspose2d(features*8, features*8, kernel_size=4, stride=2, padding=1, bias=False),\n",
    "            nn.InstanceNorm2d(features*8),\n",
    "            nn.Dropout(0.5),\n",
    "            nn.ReLU(inplace=True)\n",
    "        )\n",
    "        # 2→4 (cat → 16 channels in)\n",
    "        self.dec2 = nn.Sequential(\n",
    "            nn.ConvTranspose2d(features*8*2, features*8, kernel_size=4, stride=2, padding=1, bias=False),\n",
    "            nn.InstanceNorm2d(features*8),\n",
    "            nn.Dropout(0.5),\n",
    "            nn.ReLU(inplace=True)\n",
    "        )\n",
    "        # 4→8\n",
    "        self.dec3 = nn.Sequential(\n",
    "            nn.ConvTranspose2d(features*8*2, features*8, kernel_size=4, stride=2, padding=1, bias=False),\n",
    "            nn.InstanceNorm2d(features*8),\n",
    "            nn.Dropout(0.5),\n",
    "            nn.ReLU(inplace=True)\n",
    "        )\n",
    "        # 8→16\n",
    "        self.dec4 = nn.Sequential(\n",
    "            nn.ConvTranspose2d(features*8*2, features*8, kernel_size=4, stride=2, padding=1, bias=False),\n",
    "            nn.InstanceNorm2d(features*8),\n",
    "            nn.ReLU(inplace=True)\n",
    "        )\n",
    "        # 16→32 (cat 16+16→32 channels)\n",
    "        self.dec5 = nn.Sequential(\n",
    "            nn.ConvTranspose2d(features*8*2, features*4, kernel_size=4, stride=2, padding=1, bias=False),\n",
    "            nn.InstanceNorm2d(features*4),\n",
    "            nn.ReLU(inplace=True)\n",
    "        )\n",
    "        # 32→64\n",
    "        self.dec6 = nn.Sequential(\n",
    "            nn.ConvTranspose2d(features*4*2, features*2, kernel_size=4, stride=2, padding=1, bias=False),\n",
    "            nn.InstanceNorm2d(features*2),\n",
    "            nn.ReLU(inplace=True)\n",
    "        )\n",
    "        # 64→128\n",
    "        self.dec7 = nn.Sequential(\n",
    "            nn.ConvTranspose2d(features*2*2, features,   kernel_size=4, stride=2, padding=1, bias=False),\n",
    "            nn.InstanceNorm2d(features),\n",
    "            nn.ReLU(inplace=True)\n",
    "        )\n",
    "\n",
    "        # final 128→256 & 3 channels\n",
    "        self.final = nn.Sequential(\n",
    "            nn.ConvTranspose2d(features*2, out_channels, kernel_size=4, stride=2, padding=1, bias=False),\n",
    "            nn.Tanh()\n",
    "        )\n",
    "\n",
    "    def forward(self, x):\n",
    "        e1 = self.enc1(x)   # 256→128\n",
    "        e2 = self.enc2(e1)  # 128→64\n",
    "        e3 = self.enc3(e2)  # 64→32\n",
    "        e4 = self.enc4(e3)  # 32→16\n",
    "        e5 = self.enc5(e4)  # 16→8\n",
    "        e6 = self.enc6(e5)  # 8→4\n",
    "        e7 = self.enc7(e6)  # 4→2\n",
    "        e8 = self.enc8(e7)  # 2→1  (bottleneck)\n",
    "\n",
    "        # --- decode & concat skips ---\n",
    "        d1 = self.dec1(e8); d1 = torch.cat([d1, e7], dim=1)  # 1→2\n",
    "        d2 = self.dec2(d1); d2 = torch.cat([d2, e6], dim=1)  # 2→4\n",
    "        d3 = self.dec3(d2); d3 = torch.cat([d3, e5], dim=1)  # 4→8\n",
    "        d4 = self.dec4(d3); d4 = torch.cat([d4, e4], dim=1)  # 8→16\n",
    "        d5 = self.dec5(d4); d5 = torch.cat([d5, e3], dim=1)  # 16→32\n",
    "        d6 = self.dec6(d5); d6 = torch.cat([d6, e2], dim=1)  # 32→64\n",
    "        d7 = self.dec7(d6); d7 = torch.cat([d7, e1], dim=1)  # 64→128\n",
    "\n",
    "        return self.final(d7) # → 256×256×3"
   ]
  },
  {
   "cell_type": "markdown",
   "id": "855ef237",
   "metadata": {},
   "source": [
    "## Discriminator Training"
   ]
  },
  {
   "cell_type": "code",
   "execution_count": null,
   "id": "8f3039c0",
   "metadata": {},
   "outputs": [],
   "source": [
    "def train_discriminator(discriminator, generator, real_images, map_images, opt_d):\n",
    "    discriminator.train()\n",
    "    \n",
    "    # Clear discriminator gradients\n",
    "    opt_d.zero_grad()\n",
    "\n",
    "    # ——— Real pairs ———\n",
    "    # D(map, real) should predict “real” → target=1\n",
    "    real_preds = discriminator(real_images, map_images)\n",
    "    real_targets = torch.ones_like(real_preds)\n",
    "    real_loss = F.binary_cross_entropy_with_logits(real_preds, real_targets)\n",
    "    real_score = real_preds.mean().item()\n",
    "\n",
    "    # ——— Fake pairs ———\n",
    "    # Generate fake images\n",
    "    # G(map) → fake; detach so G’s grad isn’t updated here\n",
    "    fake_images = generator(real_images).detach()\n",
    "    fake_preds = discriminator(real_images, fake_images)\n",
    "    fake_targets = torch.zeros_like(fake_preds)\n",
    "    fake_loss    = F.binary_cross_entropy_with_logits(fake_preds, fake_targets)\n",
    "    fake_score   = fake_preds.mean().item()\n",
    "\n",
    "\n",
    "    # Update discriminator weights\n",
    "    loss = real_loss + fake_loss\n",
    "    loss.backward()\n",
    "    opt_d.step()\n",
    "    \n",
    "    return loss.item(), real_score, fake_score"
   ]
  },
  {
   "cell_type": "markdown",
   "id": "a6aa1429",
   "metadata": {},
   "source": [
    "## Generator Training"
   ]
  },
  {
   "cell_type": "code",
   "execution_count": null,
   "id": "67caab2f",
   "metadata": {},
   "outputs": [],
   "source": [
    "def train_generator(discriminator, generator, map_images, real_images, opt_g, lambda_L1 = 100):\n",
    "    generator.train()\n",
    "    \n",
    "    # Clear generator gradients\n",
    "    opt_g.zero_grad()\n",
    "\n",
    "    # 1) Adversarial loss\n",
    "    # Generate fake images\n",
    "    fake_images = generator(real_images)\n",
    "\n",
    "    # Try to fool the discriminator\n",
    "    preds = discriminator(real_images, fake_images)\n",
    "    targets = torch.ones_like(preds)\n",
    "    adv_loss = F.binary_cross_entropy_with_logits(preds, targets)\n",
    "\n",
    "    # 2) L1 reconstruction loss\n",
    "    l1_loss = F.l1_loss(fake_images, real_images)\n",
    "\n",
    "    total_loss = adv_loss + (lambda_L1 * l1_loss)\n",
    "\n",
    "    # Update generator weights\n",
    "    total_loss.backward()\n",
    "    opt_g.step()\n",
    "\n",
    "    return total_loss.item(), adv_loss.item(), l1_loss.item()"
   ]
  },
  {
   "cell_type": "code",
   "execution_count": null,
   "id": "57632f09",
   "metadata": {},
   "outputs": [],
   "source": [
    "sample_dir = 'generated'\n",
    "os.makedirs(sample_dir, exist_ok=True)"
   ]
  },
  {
   "cell_type": "markdown",
   "id": "506f7676",
   "metadata": {},
   "source": [
    "## Saving Generated Samples"
   ]
  },
  {
   "cell_type": "code",
   "execution_count": null,
   "id": "35c84255",
   "metadata": {},
   "outputs": [],
   "source": [
    "def save_samples(index, map_batch, generator, denorm, show=True):\n",
    "    generator.eval()\n",
    "    with torch.no_grad():\n",
    "        fake = generator(map_batch)         \n",
    "\n",
    "    # Denormalize into [0,1] for saving/viewing\n",
    "    fake = denorm(fake)\n",
    "\n",
    "    fname = f'generated-images-{index:04d}.png'\n",
    "    save_image(fake, os.path.join(sample_dir, fname), nrow=8)\n",
    "    print('Saving', fname)\n",
    "\n",
    "    if show:\n",
    "        grid = make_grid(fake.cpu(), nrow=8)   # shape (3, H, W)\n",
    "        plt.figure(figsize=(8,8))\n",
    "        plt.axis('off')\n",
    "        plt.imshow(grid.permute(1,2,0)) # H×W×3\n",
    "        plt.show()"
   ]
  },
  {
   "cell_type": "markdown",
   "id": "f38237e0",
   "metadata": {},
   "source": [
    "## Full Training Loop"
   ]
  },
  {
   "cell_type": "code",
   "execution_count": null,
   "id": "23bc1c4e",
   "metadata": {},
   "outputs": [],
   "source": [
    "# Denormalize from [-1,1] back to [0,1]\n",
    "def denorm(imgs):\n",
    "    return imgs * 0.5 + 0.5"
   ]
  },
  {
   "cell_type": "code",
   "execution_count": null,
   "id": "6a61bb26",
   "metadata": {},
   "outputs": [],
   "source": [
    "def fit(\n",
    "    discriminator: nn.Module,\n",
    "    generator:     nn.Module,\n",
    "    train_dl,\n",
    "    fixed_maps,           # a batch of map images, e.g. next(iter(val_dl))\n",
    "    denorm,               # function mapping [-1,1]→[0,1]\n",
    "    device = None,\n",
    "    epochs = 200,\n",
    "    lr = 2e-4,\n",
    "    start_idx = 1\n",
    "):\n",
    "    # Losses & scores\n",
    "    losses_g = []\n",
    "    losses_d = []\n",
    "    real_scores = []\n",
    "    fake_scores = []\n",
    "    \n",
    "    # Create optimizers\n",
    "    opt_d = torch.optim.Adam(discriminator.parameters(), lr=lr, betas=(0.5, 0.999))\n",
    "    opt_g = torch.optim.Adam(generator.parameters(), lr=lr, betas=(0.5, 0.999))\n",
    "\n",
    "\n",
    "    for epoch in range(start_idx, start_idx + epochs):\n",
    "        sum_d = sum_g = 0.0\n",
    "        sum_real_s = sum_fake_s = 0.0\n",
    "        n = 0\n",
    "\n",
    "        for maps, reals in tqdm(train_dl, desc=f\"Epoch {epoch}/{start_idx+epochs-1}\"):\n",
    "            # — Train D —\n",
    "            d_loss, real_s, fake_s = train_discriminator(\n",
    "                discriminator, generator,\n",
    "                reals, maps,\n",
    "                opt_d\n",
    "            )\n",
    "\n",
    "            # — Train G —\n",
    "            g_loss, adv_loss, l1_loss = train_generator(\n",
    "                discriminator, generator,\n",
    "                maps, reals,\n",
    "                opt_g\n",
    "            )\n",
    "\n",
    "            sum_d       += d_loss\n",
    "            sum_g       += g_loss\n",
    "            sum_real_s  += real_s\n",
    "            sum_fake_s  += fake_s\n",
    "            n           += 1\n",
    "\n",
    "        # Averages\n",
    "        avg_d = sum_d / n\n",
    "        avg_g = sum_g / n\n",
    "        avg_real = sum_real_s / n\n",
    "        avg_fake = sum_fake_s / n\n",
    "\n",
    "        # Record losses & scores\n",
    "        losses_d.append(avg_d)\n",
    "        losses_g.append(avg_g)\n",
    "        real_scores.append(avg_real)\n",
    "        fake_scores.append(avg_fake)\n",
    "\n",
    "        # Log losses & scores (last batch)\n",
    "        print(\n",
    "            f\"Epoch [{epoch}]  \"\n",
    "            f\"loss_g: {avg_g:.4f}, loss_d: {avg_d:.4f}, \"\n",
    "            f\"real_score: {avg_real:.4f}, fake_score: {avg_fake:.4f}\"\n",
    "        )\n",
    "\n",
    "        # Save generated images\n",
    "        save_samples(epoch, fixed_maps, generator, denorm, show=False)\n",
    "\n",
    "        if epoch % 5 == 0:\n",
    "            torch.save(generator.state_dict(), f\"checkpoint_gen_epoch{epoch}.pth\")\n",
    "\n",
    "    return losses_g, losses_d, real_scores, fake_scores"
   ]
  },
  {
   "cell_type": "code",
   "execution_count": null,
   "id": "eebc7027",
   "metadata": {},
   "outputs": [
    {
     "name": "stderr",
     "output_type": "stream",
     "text": [
      "Epoch 1/200:   0%|          | 0/1096 [00:00<?, ?it/s]\n"
     ]
    },
    {
     "ename": "ValueError",
     "evalue": "Expected more than 1 spatial element when training, got input size torch.Size([1, 512, 1, 1])",
     "output_type": "error",
     "traceback": [
      "\u001b[31m---------------------------------------------------------------------------\u001b[39m",
      "\u001b[31mValueError\u001b[39m                                Traceback (most recent call last)",
      "\u001b[36mCell\u001b[39m\u001b[36m \u001b[39m\u001b[32mIn[84]\u001b[39m\u001b[32m, line 7\u001b[39m\n\u001b[32m      4\u001b[39m lr = \u001b[32m0.0002\u001b[39m\n\u001b[32m      5\u001b[39m epochs = \u001b[32m200\u001b[39m\n\u001b[32m----> \u001b[39m\u001b[32m7\u001b[39m history = \u001b[43mfit\u001b[49m\u001b[43m(\u001b[49m\n\u001b[32m      8\u001b[39m \u001b[43m    \u001b[49m\u001b[43mdiscriminator\u001b[49m\u001b[43m=\u001b[49m\u001b[43mdiscriminator\u001b[49m\u001b[43m,\u001b[49m\n\u001b[32m      9\u001b[39m \u001b[43m    \u001b[49m\u001b[43mgenerator\u001b[49m\u001b[43m=\u001b[49m\u001b[43mgenerator\u001b[49m\u001b[43m,\u001b[49m\n\u001b[32m     10\u001b[39m \u001b[43m    \u001b[49m\u001b[43mtrain_dl\u001b[49m\u001b[43m=\u001b[49m\u001b[43mtrain_dl\u001b[49m\u001b[43m,\u001b[49m\n\u001b[32m     11\u001b[39m \u001b[43m    \u001b[49m\u001b[43mfixed_maps\u001b[49m\u001b[43m=\u001b[49m\u001b[43mfixed_maps\u001b[49m\u001b[43m,\u001b[49m\n\u001b[32m     12\u001b[39m \u001b[43m    \u001b[49m\u001b[43mdenorm\u001b[49m\u001b[43m=\u001b[49m\u001b[43mdenorm\u001b[49m\u001b[43m,\u001b[49m\n\u001b[32m     13\u001b[39m \u001b[43m    \u001b[49m\u001b[43mdevice\u001b[49m\u001b[43m=\u001b[49m\u001b[38;5;28;43;01mNone\u001b[39;49;00m\u001b[43m,\u001b[49m\u001b[43m  \u001b[49m\n\u001b[32m     14\u001b[39m \u001b[43m    \u001b[49m\u001b[43mepochs\u001b[49m\u001b[43m=\u001b[49m\u001b[32;43m200\u001b[39;49m\u001b[43m,\u001b[49m\n\u001b[32m     15\u001b[39m \u001b[43m    \u001b[49m\u001b[43mlr\u001b[49m\u001b[43m=\u001b[49m\u001b[32;43m2e-4\u001b[39;49m\u001b[43m,\u001b[49m\n\u001b[32m     16\u001b[39m \u001b[43m    \u001b[49m\u001b[43mstart_idx\u001b[49m\u001b[43m=\u001b[49m\u001b[32;43m1\u001b[39;49m\n\u001b[32m     17\u001b[39m \u001b[43m)\u001b[49m\n\u001b[32m     19\u001b[39m losses_g, losses_d, real_scores, fake_scores = history\n",
      "\u001b[36mCell\u001b[39m\u001b[36m \u001b[39m\u001b[32mIn[83]\u001b[39m\u001b[32m, line 30\u001b[39m, in \u001b[36mfit\u001b[39m\u001b[34m(discriminator, generator, train_dl, fixed_maps, denorm, device, epochs, lr, start_idx)\u001b[39m\n\u001b[32m     26\u001b[39m n = \u001b[32m0\u001b[39m\n\u001b[32m     28\u001b[39m \u001b[38;5;28;01mfor\u001b[39;00m maps, reals \u001b[38;5;129;01min\u001b[39;00m tqdm(train_dl, desc=\u001b[33mf\u001b[39m\u001b[33m\"\u001b[39m\u001b[33mEpoch \u001b[39m\u001b[38;5;132;01m{\u001b[39;00mepoch\u001b[38;5;132;01m}\u001b[39;00m\u001b[33m/\u001b[39m\u001b[38;5;132;01m{\u001b[39;00mstart_idx+epochs-\u001b[32m1\u001b[39m\u001b[38;5;132;01m}\u001b[39;00m\u001b[33m\"\u001b[39m):\n\u001b[32m     29\u001b[39m     \u001b[38;5;66;03m# — Train D —\u001b[39;00m\n\u001b[32m---> \u001b[39m\u001b[32m30\u001b[39m     d_loss, real_s, fake_s = \u001b[43mtrain_discriminator\u001b[49m\u001b[43m(\u001b[49m\n\u001b[32m     31\u001b[39m \u001b[43m        \u001b[49m\u001b[43mdiscriminator\u001b[49m\u001b[43m,\u001b[49m\u001b[43m \u001b[49m\u001b[43mgenerator\u001b[49m\u001b[43m,\u001b[49m\n\u001b[32m     32\u001b[39m \u001b[43m        \u001b[49m\u001b[43mreals\u001b[49m\u001b[43m,\u001b[49m\u001b[43m \u001b[49m\u001b[43mmaps\u001b[49m\u001b[43m,\u001b[49m\n\u001b[32m     33\u001b[39m \u001b[43m        \u001b[49m\u001b[43mopt_d\u001b[49m\n\u001b[32m     34\u001b[39m \u001b[43m    \u001b[49m\u001b[43m)\u001b[49m\n\u001b[32m     36\u001b[39m     \u001b[38;5;66;03m# — Train G —\u001b[39;00m\n\u001b[32m     37\u001b[39m     g_loss, adv_loss, l1_loss = train_generator(\n\u001b[32m     38\u001b[39m         discriminator, generator,\n\u001b[32m     39\u001b[39m         maps, reals,\n\u001b[32m     40\u001b[39m         opt_g\n\u001b[32m     41\u001b[39m     )\n",
      "\u001b[36mCell\u001b[39m\u001b[36m \u001b[39m\u001b[32mIn[78]\u001b[39m\u001b[32m, line 17\u001b[39m, in \u001b[36mtrain_discriminator\u001b[39m\u001b[34m(discriminator, generator, real_images, map_images, opt_d)\u001b[39m\n\u001b[32m     12\u001b[39m real_score = real_preds.mean().item()\n\u001b[32m     14\u001b[39m \u001b[38;5;66;03m# ——— Fake pairs ———\u001b[39;00m\n\u001b[32m     15\u001b[39m \u001b[38;5;66;03m# Generate fake images\u001b[39;00m\n\u001b[32m     16\u001b[39m \u001b[38;5;66;03m# G(map) → fake; detach so G’s grad isn’t updated here\u001b[39;00m\n\u001b[32m---> \u001b[39m\u001b[32m17\u001b[39m fake_images = \u001b[43mgenerator\u001b[49m\u001b[43m(\u001b[49m\u001b[43mmap_images\u001b[49m\u001b[43m)\u001b[49m.detach()\n\u001b[32m     18\u001b[39m fake_preds = discriminator(map_images, fake_images)\n\u001b[32m     19\u001b[39m fake_targets = torch.zeros_like(fake_preds)\n",
      "\u001b[36mFile \u001b[39m\u001b[32m~/.python/current/lib/python3.12/site-packages/torch/nn/modules/module.py:1751\u001b[39m, in \u001b[36mModule._wrapped_call_impl\u001b[39m\u001b[34m(self, *args, **kwargs)\u001b[39m\n\u001b[32m   1749\u001b[39m     \u001b[38;5;28;01mreturn\u001b[39;00m \u001b[38;5;28mself\u001b[39m._compiled_call_impl(*args, **kwargs)  \u001b[38;5;66;03m# type: ignore[misc]\u001b[39;00m\n\u001b[32m   1750\u001b[39m \u001b[38;5;28;01melse\u001b[39;00m:\n\u001b[32m-> \u001b[39m\u001b[32m1751\u001b[39m     \u001b[38;5;28;01mreturn\u001b[39;00m \u001b[38;5;28;43mself\u001b[39;49m\u001b[43m.\u001b[49m\u001b[43m_call_impl\u001b[49m\u001b[43m(\u001b[49m\u001b[43m*\u001b[49m\u001b[43margs\u001b[49m\u001b[43m,\u001b[49m\u001b[43m \u001b[49m\u001b[43m*\u001b[49m\u001b[43m*\u001b[49m\u001b[43mkwargs\u001b[49m\u001b[43m)\u001b[49m\n",
      "\u001b[36mFile \u001b[39m\u001b[32m~/.python/current/lib/python3.12/site-packages/torch/nn/modules/module.py:1762\u001b[39m, in \u001b[36mModule._call_impl\u001b[39m\u001b[34m(self, *args, **kwargs)\u001b[39m\n\u001b[32m   1757\u001b[39m \u001b[38;5;66;03m# If we don't have any hooks, we want to skip the rest of the logic in\u001b[39;00m\n\u001b[32m   1758\u001b[39m \u001b[38;5;66;03m# this function, and just call forward.\u001b[39;00m\n\u001b[32m   1759\u001b[39m \u001b[38;5;28;01mif\u001b[39;00m \u001b[38;5;129;01mnot\u001b[39;00m (\u001b[38;5;28mself\u001b[39m._backward_hooks \u001b[38;5;129;01mor\u001b[39;00m \u001b[38;5;28mself\u001b[39m._backward_pre_hooks \u001b[38;5;129;01mor\u001b[39;00m \u001b[38;5;28mself\u001b[39m._forward_hooks \u001b[38;5;129;01mor\u001b[39;00m \u001b[38;5;28mself\u001b[39m._forward_pre_hooks\n\u001b[32m   1760\u001b[39m         \u001b[38;5;129;01mor\u001b[39;00m _global_backward_pre_hooks \u001b[38;5;129;01mor\u001b[39;00m _global_backward_hooks\n\u001b[32m   1761\u001b[39m         \u001b[38;5;129;01mor\u001b[39;00m _global_forward_hooks \u001b[38;5;129;01mor\u001b[39;00m _global_forward_pre_hooks):\n\u001b[32m-> \u001b[39m\u001b[32m1762\u001b[39m     \u001b[38;5;28;01mreturn\u001b[39;00m \u001b[43mforward_call\u001b[49m\u001b[43m(\u001b[49m\u001b[43m*\u001b[49m\u001b[43margs\u001b[49m\u001b[43m,\u001b[49m\u001b[43m \u001b[49m\u001b[43m*\u001b[49m\u001b[43m*\u001b[49m\u001b[43mkwargs\u001b[49m\u001b[43m)\u001b[49m\n\u001b[32m   1764\u001b[39m result = \u001b[38;5;28;01mNone\u001b[39;00m\n\u001b[32m   1765\u001b[39m called_always_called_hooks = \u001b[38;5;28mset\u001b[39m()\n",
      "\u001b[36mCell\u001b[39m\u001b[36m \u001b[39m\u001b[32mIn[77]\u001b[39m\u001b[32m, line 115\u001b[39m, in \u001b[36mPix2PixGenerator.forward\u001b[39m\u001b[34m(self, x)\u001b[39m\n\u001b[32m    113\u001b[39m e6 = \u001b[38;5;28mself\u001b[39m.enc6(e5)  \u001b[38;5;66;03m# 8→4\u001b[39;00m\n\u001b[32m    114\u001b[39m e7 = \u001b[38;5;28mself\u001b[39m.enc7(e6)  \u001b[38;5;66;03m# 4→2\u001b[39;00m\n\u001b[32m--> \u001b[39m\u001b[32m115\u001b[39m e8 = \u001b[38;5;28;43mself\u001b[39;49m\u001b[43m.\u001b[49m\u001b[43menc8\u001b[49m\u001b[43m(\u001b[49m\u001b[43me7\u001b[49m\u001b[43m)\u001b[49m  \u001b[38;5;66;03m# 2→1  (bottleneck)\u001b[39;00m\n\u001b[32m    117\u001b[39m \u001b[38;5;66;03m# --- decode & concat skips ---\u001b[39;00m\n\u001b[32m    118\u001b[39m d1 = \u001b[38;5;28mself\u001b[39m.dec1(e8); d1 = torch.cat([d1, e7], dim=\u001b[32m1\u001b[39m)  \u001b[38;5;66;03m# 1→2\u001b[39;00m\n",
      "\u001b[36mFile \u001b[39m\u001b[32m~/.python/current/lib/python3.12/site-packages/torch/nn/modules/module.py:1751\u001b[39m, in \u001b[36mModule._wrapped_call_impl\u001b[39m\u001b[34m(self, *args, **kwargs)\u001b[39m\n\u001b[32m   1749\u001b[39m     \u001b[38;5;28;01mreturn\u001b[39;00m \u001b[38;5;28mself\u001b[39m._compiled_call_impl(*args, **kwargs)  \u001b[38;5;66;03m# type: ignore[misc]\u001b[39;00m\n\u001b[32m   1750\u001b[39m \u001b[38;5;28;01melse\u001b[39;00m:\n\u001b[32m-> \u001b[39m\u001b[32m1751\u001b[39m     \u001b[38;5;28;01mreturn\u001b[39;00m \u001b[38;5;28;43mself\u001b[39;49m\u001b[43m.\u001b[49m\u001b[43m_call_impl\u001b[49m\u001b[43m(\u001b[49m\u001b[43m*\u001b[49m\u001b[43margs\u001b[49m\u001b[43m,\u001b[49m\u001b[43m \u001b[49m\u001b[43m*\u001b[49m\u001b[43m*\u001b[49m\u001b[43mkwargs\u001b[49m\u001b[43m)\u001b[49m\n",
      "\u001b[36mFile \u001b[39m\u001b[32m~/.python/current/lib/python3.12/site-packages/torch/nn/modules/module.py:1762\u001b[39m, in \u001b[36mModule._call_impl\u001b[39m\u001b[34m(self, *args, **kwargs)\u001b[39m\n\u001b[32m   1757\u001b[39m \u001b[38;5;66;03m# If we don't have any hooks, we want to skip the rest of the logic in\u001b[39;00m\n\u001b[32m   1758\u001b[39m \u001b[38;5;66;03m# this function, and just call forward.\u001b[39;00m\n\u001b[32m   1759\u001b[39m \u001b[38;5;28;01mif\u001b[39;00m \u001b[38;5;129;01mnot\u001b[39;00m (\u001b[38;5;28mself\u001b[39m._backward_hooks \u001b[38;5;129;01mor\u001b[39;00m \u001b[38;5;28mself\u001b[39m._backward_pre_hooks \u001b[38;5;129;01mor\u001b[39;00m \u001b[38;5;28mself\u001b[39m._forward_hooks \u001b[38;5;129;01mor\u001b[39;00m \u001b[38;5;28mself\u001b[39m._forward_pre_hooks\n\u001b[32m   1760\u001b[39m         \u001b[38;5;129;01mor\u001b[39;00m _global_backward_pre_hooks \u001b[38;5;129;01mor\u001b[39;00m _global_backward_hooks\n\u001b[32m   1761\u001b[39m         \u001b[38;5;129;01mor\u001b[39;00m _global_forward_hooks \u001b[38;5;129;01mor\u001b[39;00m _global_forward_pre_hooks):\n\u001b[32m-> \u001b[39m\u001b[32m1762\u001b[39m     \u001b[38;5;28;01mreturn\u001b[39;00m \u001b[43mforward_call\u001b[49m\u001b[43m(\u001b[49m\u001b[43m*\u001b[49m\u001b[43margs\u001b[49m\u001b[43m,\u001b[49m\u001b[43m \u001b[49m\u001b[43m*\u001b[49m\u001b[43m*\u001b[49m\u001b[43mkwargs\u001b[49m\u001b[43m)\u001b[49m\n\u001b[32m   1764\u001b[39m result = \u001b[38;5;28;01mNone\u001b[39;00m\n\u001b[32m   1765\u001b[39m called_always_called_hooks = \u001b[38;5;28mset\u001b[39m()\n",
      "\u001b[36mFile \u001b[39m\u001b[32m~/.python/current/lib/python3.12/site-packages/torch/nn/modules/container.py:240\u001b[39m, in \u001b[36mSequential.forward\u001b[39m\u001b[34m(self, input)\u001b[39m\n\u001b[32m    238\u001b[39m \u001b[38;5;28;01mdef\u001b[39;00m\u001b[38;5;250m \u001b[39m\u001b[34mforward\u001b[39m(\u001b[38;5;28mself\u001b[39m, \u001b[38;5;28minput\u001b[39m):\n\u001b[32m    239\u001b[39m     \u001b[38;5;28;01mfor\u001b[39;00m module \u001b[38;5;129;01min\u001b[39;00m \u001b[38;5;28mself\u001b[39m:\n\u001b[32m--> \u001b[39m\u001b[32m240\u001b[39m         \u001b[38;5;28minput\u001b[39m = \u001b[43mmodule\u001b[49m\u001b[43m(\u001b[49m\u001b[38;5;28;43minput\u001b[39;49m\u001b[43m)\u001b[49m\n\u001b[32m    241\u001b[39m     \u001b[38;5;28;01mreturn\u001b[39;00m \u001b[38;5;28minput\u001b[39m\n",
      "\u001b[36mFile \u001b[39m\u001b[32m~/.python/current/lib/python3.12/site-packages/torch/nn/modules/module.py:1751\u001b[39m, in \u001b[36mModule._wrapped_call_impl\u001b[39m\u001b[34m(self, *args, **kwargs)\u001b[39m\n\u001b[32m   1749\u001b[39m     \u001b[38;5;28;01mreturn\u001b[39;00m \u001b[38;5;28mself\u001b[39m._compiled_call_impl(*args, **kwargs)  \u001b[38;5;66;03m# type: ignore[misc]\u001b[39;00m\n\u001b[32m   1750\u001b[39m \u001b[38;5;28;01melse\u001b[39;00m:\n\u001b[32m-> \u001b[39m\u001b[32m1751\u001b[39m     \u001b[38;5;28;01mreturn\u001b[39;00m \u001b[38;5;28;43mself\u001b[39;49m\u001b[43m.\u001b[49m\u001b[43m_call_impl\u001b[49m\u001b[43m(\u001b[49m\u001b[43m*\u001b[49m\u001b[43margs\u001b[49m\u001b[43m,\u001b[49m\u001b[43m \u001b[49m\u001b[43m*\u001b[49m\u001b[43m*\u001b[49m\u001b[43mkwargs\u001b[49m\u001b[43m)\u001b[49m\n",
      "\u001b[36mFile \u001b[39m\u001b[32m~/.python/current/lib/python3.12/site-packages/torch/nn/modules/module.py:1762\u001b[39m, in \u001b[36mModule._call_impl\u001b[39m\u001b[34m(self, *args, **kwargs)\u001b[39m\n\u001b[32m   1757\u001b[39m \u001b[38;5;66;03m# If we don't have any hooks, we want to skip the rest of the logic in\u001b[39;00m\n\u001b[32m   1758\u001b[39m \u001b[38;5;66;03m# this function, and just call forward.\u001b[39;00m\n\u001b[32m   1759\u001b[39m \u001b[38;5;28;01mif\u001b[39;00m \u001b[38;5;129;01mnot\u001b[39;00m (\u001b[38;5;28mself\u001b[39m._backward_hooks \u001b[38;5;129;01mor\u001b[39;00m \u001b[38;5;28mself\u001b[39m._backward_pre_hooks \u001b[38;5;129;01mor\u001b[39;00m \u001b[38;5;28mself\u001b[39m._forward_hooks \u001b[38;5;129;01mor\u001b[39;00m \u001b[38;5;28mself\u001b[39m._forward_pre_hooks\n\u001b[32m   1760\u001b[39m         \u001b[38;5;129;01mor\u001b[39;00m _global_backward_pre_hooks \u001b[38;5;129;01mor\u001b[39;00m _global_backward_hooks\n\u001b[32m   1761\u001b[39m         \u001b[38;5;129;01mor\u001b[39;00m _global_forward_hooks \u001b[38;5;129;01mor\u001b[39;00m _global_forward_pre_hooks):\n\u001b[32m-> \u001b[39m\u001b[32m1762\u001b[39m     \u001b[38;5;28;01mreturn\u001b[39;00m \u001b[43mforward_call\u001b[49m\u001b[43m(\u001b[49m\u001b[43m*\u001b[49m\u001b[43margs\u001b[49m\u001b[43m,\u001b[49m\u001b[43m \u001b[49m\u001b[43m*\u001b[49m\u001b[43m*\u001b[49m\u001b[43mkwargs\u001b[49m\u001b[43m)\u001b[49m\n\u001b[32m   1764\u001b[39m result = \u001b[38;5;28;01mNone\u001b[39;00m\n\u001b[32m   1765\u001b[39m called_always_called_hooks = \u001b[38;5;28mset\u001b[39m()\n",
      "\u001b[36mFile \u001b[39m\u001b[32m~/.python/current/lib/python3.12/site-packages/torch/nn/modules/instancenorm.py:124\u001b[39m, in \u001b[36m_InstanceNorm.forward\u001b[39m\u001b[34m(self, input)\u001b[39m\n\u001b[32m    121\u001b[39m \u001b[38;5;28;01mif\u001b[39;00m \u001b[38;5;28minput\u001b[39m.dim() == \u001b[38;5;28mself\u001b[39m._get_no_batch_dim():\n\u001b[32m    122\u001b[39m     \u001b[38;5;28;01mreturn\u001b[39;00m \u001b[38;5;28mself\u001b[39m._handle_no_batch_input(\u001b[38;5;28minput\u001b[39m)\n\u001b[32m--> \u001b[39m\u001b[32m124\u001b[39m \u001b[38;5;28;01mreturn\u001b[39;00m \u001b[38;5;28;43mself\u001b[39;49m\u001b[43m.\u001b[49m\u001b[43m_apply_instance_norm\u001b[49m\u001b[43m(\u001b[49m\u001b[38;5;28;43minput\u001b[39;49m\u001b[43m)\u001b[49m\n",
      "\u001b[36mFile \u001b[39m\u001b[32m~/.python/current/lib/python3.12/site-packages/torch/nn/modules/instancenorm.py:47\u001b[39m, in \u001b[36m_InstanceNorm._apply_instance_norm\u001b[39m\u001b[34m(self, input)\u001b[39m\n\u001b[32m     46\u001b[39m \u001b[38;5;28;01mdef\u001b[39;00m\u001b[38;5;250m \u001b[39m\u001b[34m_apply_instance_norm\u001b[39m(\u001b[38;5;28mself\u001b[39m, \u001b[38;5;28minput\u001b[39m):\n\u001b[32m---> \u001b[39m\u001b[32m47\u001b[39m     \u001b[38;5;28;01mreturn\u001b[39;00m \u001b[43mF\u001b[49m\u001b[43m.\u001b[49m\u001b[43minstance_norm\u001b[49m\u001b[43m(\u001b[49m\n\u001b[32m     48\u001b[39m \u001b[43m        \u001b[49m\u001b[38;5;28;43minput\u001b[39;49m\u001b[43m,\u001b[49m\n\u001b[32m     49\u001b[39m \u001b[43m        \u001b[49m\u001b[38;5;28;43mself\u001b[39;49m\u001b[43m.\u001b[49m\u001b[43mrunning_mean\u001b[49m\u001b[43m,\u001b[49m\n\u001b[32m     50\u001b[39m \u001b[43m        \u001b[49m\u001b[38;5;28;43mself\u001b[39;49m\u001b[43m.\u001b[49m\u001b[43mrunning_var\u001b[49m\u001b[43m,\u001b[49m\n\u001b[32m     51\u001b[39m \u001b[43m        \u001b[49m\u001b[38;5;28;43mself\u001b[39;49m\u001b[43m.\u001b[49m\u001b[43mweight\u001b[49m\u001b[43m,\u001b[49m\n\u001b[32m     52\u001b[39m \u001b[43m        \u001b[49m\u001b[38;5;28;43mself\u001b[39;49m\u001b[43m.\u001b[49m\u001b[43mbias\u001b[49m\u001b[43m,\u001b[49m\n\u001b[32m     53\u001b[39m \u001b[43m        \u001b[49m\u001b[38;5;28;43mself\u001b[39;49m\u001b[43m.\u001b[49m\u001b[43mtraining\u001b[49m\u001b[43m \u001b[49m\u001b[38;5;129;43;01mor\u001b[39;49;00m\u001b[43m \u001b[49m\u001b[38;5;129;43;01mnot\u001b[39;49;00m\u001b[43m \u001b[49m\u001b[38;5;28;43mself\u001b[39;49m\u001b[43m.\u001b[49m\u001b[43mtrack_running_stats\u001b[49m\u001b[43m,\u001b[49m\n\u001b[32m     54\u001b[39m \u001b[43m        \u001b[49m\u001b[38;5;28;43mself\u001b[39;49m\u001b[43m.\u001b[49m\u001b[43mmomentum\u001b[49m\u001b[43m \u001b[49m\u001b[38;5;28;43;01mif\u001b[39;49;00m\u001b[43m \u001b[49m\u001b[38;5;28;43mself\u001b[39;49m\u001b[43m.\u001b[49m\u001b[43mmomentum\u001b[49m\u001b[43m \u001b[49m\u001b[38;5;129;43;01mis\u001b[39;49;00m\u001b[43m \u001b[49m\u001b[38;5;129;43;01mnot\u001b[39;49;00m\u001b[43m \u001b[49m\u001b[38;5;28;43;01mNone\u001b[39;49;00m\u001b[43m \u001b[49m\u001b[38;5;28;43;01melse\u001b[39;49;00m\u001b[43m \u001b[49m\u001b[32;43m0.0\u001b[39;49m\u001b[43m,\u001b[49m\n\u001b[32m     55\u001b[39m \u001b[43m        \u001b[49m\u001b[38;5;28;43mself\u001b[39;49m\u001b[43m.\u001b[49m\u001b[43meps\u001b[49m\u001b[43m,\u001b[49m\n\u001b[32m     56\u001b[39m \u001b[43m    \u001b[49m\u001b[43m)\u001b[49m\n",
      "\u001b[36mFile \u001b[39m\u001b[32m~/.python/current/lib/python3.12/site-packages/torch/nn/functional.py:2875\u001b[39m, in \u001b[36minstance_norm\u001b[39m\u001b[34m(input, running_mean, running_var, weight, bias, use_input_stats, momentum, eps)\u001b[39m\n\u001b[32m   2862\u001b[39m     \u001b[38;5;28;01mreturn\u001b[39;00m handle_torch_function(\n\u001b[32m   2863\u001b[39m         instance_norm,\n\u001b[32m   2864\u001b[39m         (\u001b[38;5;28minput\u001b[39m, running_mean, running_var, weight, bias),\n\u001b[32m   (...)\u001b[39m\u001b[32m   2872\u001b[39m         eps=eps,\n\u001b[32m   2873\u001b[39m     )\n\u001b[32m   2874\u001b[39m \u001b[38;5;28;01mif\u001b[39;00m use_input_stats:\n\u001b[32m-> \u001b[39m\u001b[32m2875\u001b[39m     \u001b[43m_verify_spatial_size\u001b[49m\u001b[43m(\u001b[49m\u001b[38;5;28;43minput\u001b[39;49m\u001b[43m.\u001b[49m\u001b[43msize\u001b[49m\u001b[43m(\u001b[49m\u001b[43m)\u001b[49m\u001b[43m)\u001b[49m\n\u001b[32m   2876\u001b[39m \u001b[38;5;28;01mreturn\u001b[39;00m torch.instance_norm(\n\u001b[32m   2877\u001b[39m     \u001b[38;5;28minput\u001b[39m,\n\u001b[32m   2878\u001b[39m     weight,\n\u001b[32m   (...)\u001b[39m\u001b[32m   2885\u001b[39m     torch.backends.cudnn.enabled,\n\u001b[32m   2886\u001b[39m )\n",
      "\u001b[36mFile \u001b[39m\u001b[32m~/.python/current/lib/python3.12/site-packages/torch/nn/functional.py:2841\u001b[39m, in \u001b[36m_verify_spatial_size\u001b[39m\u001b[34m(size)\u001b[39m\n\u001b[32m   2839\u001b[39m     size_prods *= size[i]\n\u001b[32m   2840\u001b[39m \u001b[38;5;28;01mif\u001b[39;00m size_prods == \u001b[32m1\u001b[39m:\n\u001b[32m-> \u001b[39m\u001b[32m2841\u001b[39m     \u001b[38;5;28;01mraise\u001b[39;00m \u001b[38;5;167;01mValueError\u001b[39;00m(\n\u001b[32m   2842\u001b[39m         \u001b[33mf\u001b[39m\u001b[33m\"\u001b[39m\u001b[33mExpected more than 1 spatial element when training, got input size \u001b[39m\u001b[38;5;132;01m{\u001b[39;00msize\u001b[38;5;132;01m}\u001b[39;00m\u001b[33m\"\u001b[39m\n\u001b[32m   2843\u001b[39m     )\n",
      "\u001b[31mValueError\u001b[39m: Expected more than 1 spatial element when training, got input size torch.Size([1, 512, 1, 1])"
     ]
    }
   ],
   "source": [
    "discriminator = Pix2PixDiscriminator()\n",
    "generator     = Pix2PixGenerator()\n",
    "fixed_maps, _ = next(iter(train_dl))\n",
    "lr = 0.0002\n",
    "epochs = 50\n",
    "\n",
    "history = fit(\n",
    "    discriminator=discriminator,\n",
    "    generator=generator,\n",
    "    train_dl=train_dl,\n",
    "    fixed_maps=fixed_maps,\n",
    "    denorm=denorm,\n",
    "    device=None,  \n",
    "    epochs=200,\n",
    "    lr=2e-4,\n",
    "    start_idx=1\n",
    ")\n",
    "\n",
    "losses_g, losses_d, real_scores, fake_scores = history"
   ]
  },
  {
   "cell_type": "markdown",
   "id": "4af0c768",
   "metadata": {},
   "source": [
    "## Checkpointing\n"
   ]
  },
  {
   "cell_type": "code",
   "execution_count": null,
   "id": "6aafd4ba",
   "metadata": {},
   "outputs": [],
   "source": [
    "# Save the model checkpoints \n",
    "torch.save(generator.state_dict(), 'G.pth')\n",
    "torch.save(discriminator.state_dict(), 'D.pth')"
   ]
  },
  {
   "cell_type": "markdown",
   "id": "b840b3a3",
   "metadata": {},
   "source": [
    "Here's how the generated images look, after the 1st, 5th, 10th, and 50th epochs of training."
   ]
  },
  {
   "cell_type": "code",
   "execution_count": null,
   "id": "aaf06920",
   "metadata": {},
   "outputs": [],
   "source": [
    "Image('./generated/generated-images-0001.png')"
   ]
  },
  {
   "cell_type": "code",
   "execution_count": null,
   "id": "7df67876",
   "metadata": {},
   "outputs": [],
   "source": [
    "Image('./generated/generated-images-0005.png')"
   ]
  },
  {
   "cell_type": "code",
   "execution_count": null,
   "id": "d762ef40",
   "metadata": {},
   "outputs": [],
   "source": [
    "Image('./generated/generated-images-0010.png')"
   ]
  },
  {
   "cell_type": "code",
   "execution_count": null,
   "id": "9721a63a",
   "metadata": {},
   "outputs": [],
   "source": [
    "Image('./generated/generated-images-0050.png')"
   ]
  },
  {
   "cell_type": "markdown",
   "id": "a97d55b5",
   "metadata": {},
   "source": [
    "## Plotting Loss of Generator & Discriminator"
   ]
  },
  {
   "cell_type": "code",
   "execution_count": null,
   "id": "a1b7b2cd",
   "metadata": {},
   "outputs": [],
   "source": [
    "epochs_range = list(range(1, len(losses_d) + 1))"
   ]
  },
  {
   "cell_type": "code",
   "execution_count": null,
   "id": "79345e99",
   "metadata": {},
   "outputs": [],
   "source": [
    "plt.clf()\n",
    "plt.plot(epochs_range, losses_d, label=\"Discriminator\")\n",
    "plt.plot(epochs_range, losses_g, label=\"Generator\")\n",
    "plt.xlabel(\"Epoch\")\n",
    "plt.ylabel(\"Losses\")\n",
    "plt.title(\"Training Loss per Epoch\")\n",
    "plt.legend()\n",
    "plt.grid(True)\n",
    "plt.show()"
   ]
  },
  {
   "cell_type": "markdown",
   "id": "e636032a",
   "metadata": {},
   "source": [
    "## Plotting Real & Fake Scores"
   ]
  },
  {
   "cell_type": "code",
   "execution_count": null,
   "id": "8991a624",
   "metadata": {},
   "outputs": [],
   "source": [
    "plt.clf()\n",
    "plt.plot(epochs_range, real_scores, label=\"Real Score\")\n",
    "plt.plot(epochs_range, fake_scores, label=\"Fake Score\")\n",
    "plt.xlabel(\"Epoch\")\n",
    "plt.ylabel(\"Scores\")\n",
    "plt.title(\"Real vs Fake Scores per Epoch\")\n",
    "plt.legend()\n",
    "plt.grid(True)\n",
    "plt.show()"
   ]
  },
  {
   "cell_type": "markdown",
   "id": "41f07049",
   "metadata": {},
   "source": [
    "## Generating New Images"
   ]
  },
  {
   "cell_type": "code",
   "execution_count": null,
   "id": "b2f6040e",
   "metadata": {},
   "outputs": [],
   "source": [
    "# Building a validation loader\n",
    "val_ds  = Pix2PixDataset('./data/maps', mode='val', transform=data_transform)\n",
    "val_dl  = DataLoader(val_ds, batch_size=5, shuffle=True, num_workers=2)"
   ]
  },
  {
   "cell_type": "code",
   "execution_count": null,
   "id": "5b1cf6de",
   "metadata": {},
   "outputs": [],
   "source": [
    "generator = Pix2PixGenerator()\n",
    "generator.load_state_dict(torch.load('G.pth'))\n",
    "generator.eval()\n",
    "\n",
    "# Sampling from val_dl\n",
    "maps_batch, _ = next(iter(val_dl))\n",
    "fake_batch = generator(maps_batch)\n",
    "fake_batch = denorm(fake_batch)"
   ]
  },
  {
   "cell_type": "code",
   "execution_count": null,
   "id": "5d66b425",
   "metadata": {},
   "outputs": [],
   "source": [
    "# Display Images\n",
    "grid = make_grid(fake_batch, nrow=5).permute(1,2,0).squeeze()\n",
    "plt.figure(figsize=(25,3), dpi=100)\n",
    "plt.axis('off')\n",
    "plt.imshow(grid, cmap='gray', interpolation='nearest')\n",
    "plt.show()"
   ]
  },
  {
   "cell_type": "markdown",
   "id": "5201ec01",
   "metadata": {},
   "source": [
    "## User Interface"
   ]
  },
  {
   "cell_type": "code",
   "execution_count": null,
   "id": "474d5731",
   "metadata": {},
   "outputs": [],
   "source": [
    "# Wrapper to run your model end-to-end\n",
    "def translate(real_img: PIL.Image.Image) -> PIL.Image.Image:\n",
    "    x = data_transform(real_img).unsqueeze(0)  # 1×3×256×256\n",
    "    with torch.no_grad():\n",
    "        fake = generator(x)   # 1×3×256×256\n",
    "    fake = denorm(fake[0]).clamp(0,1)   # back to [0,1]\n",
    "    return ToPILImage()(fake)  # PIL for display"
   ]
  },
  {
   "cell_type": "code",
   "execution_count": null,
   "id": "2ee3de3b",
   "metadata": {},
   "outputs": [],
   "source": [
    "iface = gr.Interface(\n",
    "    fn=translate,\n",
    "    inputs=gr.Image(type=\"pil\", label=\"Input Image\"),\n",
    "    outputs=gr.Image(type=\"pil\", label=\"Generated Map\"),\n",
    "    title=\"StreetViewGAN\",\n",
    "    description=\"Upload a street view image; get the generated map.\"\n",
    ")"
   ]
  },
  {
   "cell_type": "code",
   "execution_count": null,
   "id": "1d6ee8d6",
   "metadata": {},
   "outputs": [],
   "source": [
    "# Launch\n",
    "iface.launch()"
   ]
  }
 ],
 "metadata": {
  "kernelspec": {
   "display_name": "Python 3",
   "language": "python",
   "name": "python3"
  },
  "language_info": {
   "codemirror_mode": {
    "name": "ipython",
    "version": 3
   },
   "file_extension": ".py",
   "mimetype": "text/x-python",
   "name": "python",
   "nbconvert_exporter": "python",
   "pygments_lexer": "ipython3",
   "version": "3.12.4"
  }
 },
 "nbformat": 4,
 "nbformat_minor": 5
}
